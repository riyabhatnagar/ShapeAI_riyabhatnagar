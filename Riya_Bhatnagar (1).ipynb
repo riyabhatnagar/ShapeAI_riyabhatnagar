{
  "nbformat": 4,
  "nbformat_minor": 0,
  "metadata": {
    "colab": {
      "name": "Riya Bhatnagar.ipynb",
      "provenance": [],
      "collapsed_sections": []
    },
    "kernelspec": {
      "name": "python3",
      "display_name": "Python 3"
    },
    "language_info": {
      "name": "python"
    }
  },
  "cells": [
    {
      "cell_type": "code",
      "metadata": {
        "id": "6qPixdxLbrFO"
      },
      "source": [
        "from keras.datasets import mnist\n",
        "data=mnist.load_data()"
      ],
      "execution_count": 15,
      "outputs": []
    },
    {
      "cell_type": "code",
      "metadata": {
        "id": "vY-Oi5jKcoTs"
      },
      "source": [
        "type(data)"
      ],
      "execution_count": null,
      "outputs": []
    },
    {
      "cell_type": "code",
      "metadata": {
        "id": "w9N1a2ADcsFy"
      },
      "source": [
        "((x_train,y_train),(x_test,y_test))=data"
      ],
      "execution_count": 17,
      "outputs": []
    },
    {
      "cell_type": "code",
      "metadata": {
        "id": "rHvYYG1EdHQk"
      },
      "source": [
        "#shape of training data\n",
        "x_train[0].shape"
      ],
      "execution_count": null,
      "outputs": []
    },
    {
      "cell_type": "code",
      "metadata": {
        "id": "bdfdKmaVdXZC"
      },
      "source": [
        "#Reshaping the training data\n",
        "x_train=x_train.reshape((x_train.shape[0],28*28)).astype('float32')\n",
        "x_test=x_test.reshape((x_test.shape[0],28*28)).astype('float32')\n"
      ],
      "execution_count": 18,
      "outputs": []
    },
    {
      "cell_type": "code",
      "metadata": {
        "id": "sNHptH7Cehjy"
      },
      "source": [
        "#normalizing values from 0-255 to 0-1\n",
        "x_train=x_train /255\n",
        "x_test=x_test / 255\n",
        "x_train\n",
        "\n"
      ],
      "execution_count": null,
      "outputs": []
    },
    {
      "cell_type": "code",
      "metadata": {
        "id": "CRfcuZgBhiy2"
      },
      "source": [
        "from keras.utils import  np_utils\n",
        "\n",
        "print(y_test.shape[0])\n",
        "\n",
        "y_train=np_utils.to_categorical(y_train)\n",
        "y_test=np_utils.to_categorical(y_test)\n",
        "num_classes=y_test.shape[1]\n",
        "print(num_classes)\n"
      ],
      "execution_count": null,
      "outputs": []
    },
    {
      "cell_type": "code",
      "metadata": {
        "id": "9MEv-r69ipVF"
      },
      "source": [
        "from keras.models import Sequential\n",
        "from keras.layers import Dense\n",
        "\n"
      ],
      "execution_count": 21,
      "outputs": []
    },
    {
      "cell_type": "code",
      "metadata": {
        "id": "1zyDwiKnmIBH"
      },
      "source": [
        "#define model\n",
        "model= Sequential()\n",
        "#add first hidden  layer\n",
        "model.add(Dense(32,input_dim=28*28,activation='relu'))\n",
        "#add second hidden layer\n",
        "model.add(Dense(64,activation='relu'))\n",
        "#add output layer having 10 neuron\n",
        "model.add(Dense(10,activation='softmax'))"
      ],
      "execution_count": 22,
      "outputs": []
    },
    {
      "cell_type": "code",
      "metadata": {
        "id": "2QimKxP1mxyd",
        "colab": {
          "base_uri": "https://localhost:8080/"
        },
        "outputId": "72a09967-cb39-4f4d-e1fa-87363de72030"
      },
      "source": [
        "#compile modeel\n",
        "model.compile(loss='categorical_crossentropy',optimizer='adam',metrics='accuracy')\n",
        "#print Model Summary\n",
        "model.summary()"
      ],
      "execution_count": 23,
      "outputs": [
        {
          "output_type": "stream",
          "text": [
            "Model: \"sequential_1\"\n",
            "_________________________________________________________________\n",
            "Layer (type)                 Output Shape              Param #   \n",
            "=================================================================\n",
            "dense_3 (Dense)              (None, 32)                25120     \n",
            "_________________________________________________________________\n",
            "dense_4 (Dense)              (None, 64)                2112      \n",
            "_________________________________________________________________\n",
            "dense_5 (Dense)              (None, 10)                650       \n",
            "=================================================================\n",
            "Total params: 27,882\n",
            "Trainable params: 27,882\n",
            "Non-trainable params: 0\n",
            "_________________________________________________________________\n"
          ],
          "name": "stdout"
        }
      ]
    },
    {
      "cell_type": "code",
      "metadata": {
        "id": "p9nysolXnfTf"
      },
      "source": [
        "#train model\n",
        "model.fit(x_train,y_train,epochs=10,batch_size=100)\n"
      ],
      "execution_count": null,
      "outputs": []
    },
    {
      "cell_type": "code",
      "metadata": {
        "colab": {
          "base_uri": "https://localhost:8080/"
        },
        "id": "jkce7JVQpnTb",
        "outputId": "ec294182-0d14-480f-d003-f0591593b919"
      },
      "source": [
        "scores=model.evaluate(x_test,y_test)\n",
        "print(scores)"
      ],
      "execution_count": 25,
      "outputs": [
        {
          "output_type": "stream",
          "text": [
            "313/313 [==============================] - 0s 898us/step - loss: 0.1090 - accuracy: 0.9680\n",
            "[0.10900020599365234, 0.9679999947547913]\n"
          ],
          "name": "stdout"
        }
      ]
    }
  ]
}